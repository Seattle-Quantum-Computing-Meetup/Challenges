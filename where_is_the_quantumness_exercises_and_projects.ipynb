{
 "cells": [
  {
   "cell_type": "markdown",
   "id": "99b928e8",
   "metadata": {},
   "source": [
    "# Where Is the Quantumness in Quantum Computing?\n",
    "\n"
   ]
  },
  {
   "cell_type": "markdown",
   "id": "2ce4f234",
   "metadata": {},
   "source": [
    "## References\n",
    "\n",
    "Q is for Quantum\n",
    "\n",
    "Qiskit Textbook\n",
    "\n",
    "Van Gael Thesis\n",
    "\n",
    "Xanadu Codebook"
   ]
  },
  {
   "cell_type": "markdown",
   "id": "965a8c81",
   "metadata": {},
   "source": [
    "## Exercises and Projects\n",
    "\n"
   ]
  },
  {
   "cell_type": "code",
   "execution_count": null,
   "id": "7281edb2",
   "metadata": {},
   "outputs": [],
   "source": []
  }
 ],
 "metadata": {
  "kernelspec": {
   "display_name": "osc_py39",
   "language": "python",
   "name": "osc_py39"
  },
  "language_info": {
   "codemirror_mode": {
    "name": "ipython",
    "version": 3
   },
   "file_extension": ".py",
   "mimetype": "text/x-python",
   "name": "python",
   "nbconvert_exporter": "python",
   "pygments_lexer": "ipython3",
   "version": "3.9.15"
  }
 },
 "nbformat": 4,
 "nbformat_minor": 5
}
