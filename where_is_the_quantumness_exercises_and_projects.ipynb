{
 "cells": [
  {
   "cell_type": "markdown",
   "id": "bdf42f27",
   "metadata": {},
   "source": [
    "# Where Is the Quantumness in Quantum Computing?\n",
    "\n"
   ]
  },
  {
   "cell_type": "markdown",
   "id": "ae6b124e",
   "metadata": {},
   "source": [
    "## References\n",
    "\n",
    "Q is for Quantum\n",
    "\n",
    "Qiskit Textbook\n",
    "\n",
    "Van Gael Thesis\n",
    "\n",
    "Xanadu Codebook"
   ]
  },
  {
   "cell_type": "markdown",
   "id": "cc8c8cd7",
   "metadata": {},
   "source": [
    "## Exercises and Projects\n",
    "\n"
   ]
  },
  {
   "cell_type": "code",
   "execution_count": null,
   "id": "b65dcf8d",
   "metadata": {},
   "outputs": [],
   "source": []
  }
 ],
 "metadata": {
  "kernelspec": {
   "display_name": "osc_py39",
   "language": "python",
   "name": "osc_py39"
  },
  "language_info": {
   "codemirror_mode": {
    "name": "ipython",
    "version": 3
   },
   "file_extension": ".py",
   "mimetype": "text/x-python",
   "name": "python",
   "nbconvert_exporter": "python",
   "pygments_lexer": "ipython3",
   "version": "3.9.15"
  }
 },
 "nbformat": 4,
 "nbformat_minor": 5
}
