{
 "cells": [
  {
   "cell_type": "markdown",
   "id": "863c77cf",
   "metadata": {},
   "source": [
    "# Quantum Algorithms - Getting Started Exercises and Projects"
   ]
  },
  {
   "cell_type": "markdown",
   "id": "ecc32e0f",
   "metadata": {},
   "source": [
    "## References"
   ]
  },
  {
   "cell_type": "code",
   "execution_count": null,
   "id": "7458bcaa",
   "metadata": {},
   "outputs": [],
   "source": []
  }
 ],
 "metadata": {
  "kernelspec": {
   "display_name": "osc_py39",
   "language": "python",
   "name": "osc_py39"
  },
  "language_info": {
   "codemirror_mode": {
    "name": "ipython",
    "version": 3
   },
   "file_extension": ".py",
   "mimetype": "text/x-python",
   "name": "python",
   "nbconvert_exporter": "python",
   "pygments_lexer": "ipython3",
   "version": "3.9.15"
  }
 },
 "nbformat": 4,
 "nbformat_minor": 5
}
