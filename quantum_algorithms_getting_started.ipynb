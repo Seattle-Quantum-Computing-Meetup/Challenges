{
 "cells": [
  {
   "cell_type": "markdown",
   "id": "695cda97",
   "metadata": {},
   "source": [
    "# Quantum Algorithms - Getting Started\n"
   ]
  },
  {
   "cell_type": "markdown",
   "id": "5cc4659e",
   "metadata": {},
   "source": [
    "## Quantum Primitives - \n",
    "\n",
    "Quantum Fourier Transform\n",
    "\n",
    "Quantum Phase Kickback\n",
    "\n",
    "Amplitude Amplification"
   ]
  },
  {
   "cell_type": "code",
   "execution_count": null,
   "id": "81e04b31",
   "metadata": {},
   "outputs": [],
   "source": []
  }
 ],
 "metadata": {
  "kernelspec": {
   "display_name": "osc_py39",
   "language": "python",
   "name": "osc_py39"
  },
  "language_info": {
   "codemirror_mode": {
    "name": "ipython",
    "version": 3
   },
   "file_extension": ".py",
   "mimetype": "text/x-python",
   "name": "python",
   "nbconvert_exporter": "python",
   "pygments_lexer": "ipython3",
   "version": "3.9.15"
  }
 },
 "nbformat": 4,
 "nbformat_minor": 5
}
