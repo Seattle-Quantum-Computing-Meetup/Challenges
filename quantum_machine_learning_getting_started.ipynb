{
 "cells": [
  {
   "cell_type": "markdown",
   "id": "23eaeca5",
   "metadata": {},
   "source": [
    "# Quantum Machine Learning - Getting Started"
   ]
  },
  {
   "cell_type": "code",
   "execution_count": null,
   "id": "b93085a5",
   "metadata": {},
   "outputs": [],
   "source": []
  }
 ],
 "metadata": {
  "kernelspec": {
   "display_name": "osc_py39",
   "language": "python",
   "name": "osc_py39"
  },
  "language_info": {
   "codemirror_mode": {
    "name": "ipython",
    "version": 3
   },
   "file_extension": ".py",
   "mimetype": "text/x-python",
   "name": "python",
   "nbconvert_exporter": "python",
   "pygments_lexer": "ipython3",
   "version": "3.9.15"
  }
 },
 "nbformat": 4,
 "nbformat_minor": 5
}
