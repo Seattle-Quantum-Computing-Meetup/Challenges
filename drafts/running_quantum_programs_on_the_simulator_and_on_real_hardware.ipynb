{
 "cells": [
  {
   "cell_type": "markdown",
   "id": "f0d62958",
   "metadata": {},
   "source": [
    "# Running Quantum Programs on a Simulator and on Real Hardware\n"
   ]
  },
  {
   "cell_type": "code",
   "execution_count": 2,
   "id": "ff492151",
   "metadata": {},
   "outputs": [],
   "source": [
    "from qiskit import Aer, QuantumCircuit"
   ]
  },
  {
   "cell_type": "markdown",
   "id": "55a1c888",
   "metadata": {},
   "source": [
    "## On a Simulator"
   ]
  },
  {
   "cell_type": "code",
   "execution_count": 23,
   "id": "d2720e47",
   "metadata": {},
   "outputs": [],
   "source": [
    "def run_circuit(num_qubits, num_shots=1000):\n",
    "    qc = QuantumCircuit(num_qubits)\n",
    "    qc.h(list(range(num_qubits)))\n",
    "    qc.measure_all()\n",
    "\n",
    "    simulator = Aer.get_backend('aer_simulator')\n",
    "    result = simulator.run(qc, shots=num_shots).result()\n",
    "    counts = result.get_counts()\n",
    "    \n",
    "    return counts"
   ]
  },
  {
   "cell_type": "code",
   "execution_count": 20,
   "id": "2c889654",
   "metadata": {},
   "outputs": [
    {
     "name": "stdout",
     "output_type": "stream",
     "text": [
      "4\n",
      "8\n",
      "16\n",
      "1024\n",
      "1048510\n",
      "9953219\n",
      "9999958\n",
      "10000000\n"
     ]
    }
   ],
   "source": [
    "for num_qubits in [2,3,4,10,20,30,40,50]:\n",
    "    num_shots = 10000000\n",
    "    counts = run_circuit(num_qubits, num_shots)\n",
    "    print(len(counts))"
   ]
  },
  {
   "cell_type": "markdown",
   "id": "fee5de10",
   "metadata": {},
   "source": [
    "len of counts for 2**n qubits:\n",
    "------------------------------------------------\n",
    "2: 4, \n",
    "3: 8, 4: 16, 10: 1024, 20: 1048510, 30: 9953219, 40: 9999958, 50: 10000000"
   ]
  },
  {
   "cell_type": "code",
   "execution_count": 25,
   "id": "a9dfaee2",
   "metadata": {},
   "outputs": [
    {
     "name": "stdout",
     "output_type": "stream",
     "text": [
      "1024\n"
     ]
    }
   ],
   "source": [
    "counts = run_circuit(10, 10000)\n",
    "print(len(counts))"
   ]
  },
  {
   "cell_type": "markdown",
   "id": "00b5b97b",
   "metadata": {},
   "source": [
    "## On Real Hardware"
   ]
  },
  {
   "cell_type": "code",
   "execution_count": null,
   "id": "f673d70f",
   "metadata": {},
   "outputs": [],
   "source": []
  }
 ],
 "metadata": {
  "kernelspec": {
   "display_name": "osc_py39",
   "language": "python",
   "name": "osc_py39"
  },
  "language_info": {
   "codemirror_mode": {
    "name": "ipython",
    "version": 3
   },
   "file_extension": ".py",
   "mimetype": "text/x-python",
   "name": "python",
   "nbconvert_exporter": "python",
   "pygments_lexer": "ipython3",
   "version": "3.9.15"
  }
 },
 "nbformat": 4,
 "nbformat_minor": 5
}
